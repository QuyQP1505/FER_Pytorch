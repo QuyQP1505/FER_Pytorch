{
 "cells": [
  {
   "cell_type": "code",
   "execution_count": 19,
   "id": "648f53ed",
   "metadata": {},
   "outputs": [
    {
     "name": "stdout",
     "output_type": "stream",
     "text": [
      "Mean: 29.962962962962962\n",
      "Media: 25.0\n"
     ]
    }
   ],
   "source": [
    "# (a) What is the mean of the data? What is the median?\n",
    "import numpy as np\n",
    "\n",
    "arr = [13, 15, 16, 16, 19, 20, 20, 21, 22, 22, 25, 25, 25, 25, 30, 33, 33, 35, 35, 35, 35, 36, 40, 45, 46, 52, 70]\n",
    "mean = np.mean(arr)\n",
    "median = np.median(arr)\n",
    "\n",
    "print(\"Mean:\", mean)\n",
    "print(\"Media:\", median)"
   ]
  },
  {
   "cell_type": "code",
   "execution_count": 15,
   "id": "408493a5",
   "metadata": {},
   "outputs": [
    {
     "name": "stdout",
     "output_type": "stream",
     "text": [
      "Q1: 20.5\n",
      "Q3: 35.0\n"
     ]
    }
   ],
   "source": [
    "# (d) Can you find (roughly) the first quartile (Q1) and the third quartile (Q3) of the data?\n",
    "x = np.quantile(arr, [0,0.25,0.5,0.75,1]) \n",
    "print(\"Q1:\", x[1])\n",
    "print(\"Q3:\", x[3])"
   ]
  },
  {
   "cell_type": "code",
   "execution_count": 18,
   "id": "62d28b42",
   "metadata": {},
   "outputs": [
    {
     "data": {
      "image/png": "[encoded data removed]",
      "text/plain": [
       "<Figure size 504x360 with 1 Axes>"
      ]
     },
     "metadata": {
      "needs_background": "light"
     },
     "output_type": "display_data"
    }
   ],
   "source": [
    "# (e) Show a boxplot of the data.\n",
    "import matplotlib.pyplot as plt \n",
    " \n",
    "# Creating dataset \n",
    "fig = plt.figure(figsize =(7, 5))\n",
    " \n",
    "# Creating plot\n",
    "plt.boxplot(arr)\n",
    " \n",
    "# show plot\n",
    "plt.show()"
   ]
  },
  {
   "cell_type": "code",
   "execution_count": null,
   "id": "8350fd8a",
   "metadata": {},
   "outputs": [],
   "source": []
  }
 ],
 "metadata": {
  "kernelspec": {
   "display_name": "Python 3",
   "language": "python",
   "name": "python3"
  },
  "language_info": {
   "codemirror_mode": {
    "name": "ipython",
    "version": 3
   },
   "file_extension": ".py",
   "mimetype": "text/x-python",
   "name": "python",
   "nbconvert_exporter": "python",
   "pygments_lexer": "ipython3",
   "version": "3.8.10"
  }
 },
 "nbformat": 4,
 "nbformat_minor": 5
}
